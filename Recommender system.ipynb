{
 "cells": [
  {
   "cell_type": "code",
   "execution_count": 2,
   "metadata": {},
   "outputs": [],
   "source": [
    "%load_ext autoreload\n",
    "%autoreload 2\n",
    "\n",
    "import pandas as pd\n",
    "import numpy as np\n",
    "import time\n",
    "import turicreate as tc\n",
    "from sklearn.model_selection import train_test_split\n",
    "\n",
    "import sys\n",
    "sys.path.append(\"..\")"
   ]
  },
  {
   "cell_type": "code",
   "execution_count": 3,
   "metadata": {},
   "outputs": [
    {
     "name": "stdout",
     "output_type": "stream",
     "text": [
      "      TICKET_ID  MOIS_VENTE  PRIX_NET          FAMILLE  \\\n",
      "0      35592159          10      1.67          HYGIENE   \n",
      "1      35592159          10      1.66          HYGIENE   \n",
      "2      35592159          10      7.45  SOINS DU VISAGE   \n",
      "3      35592159          10      5.95  SOINS DU VISAGE   \n",
      "4      35592159          10      1.67          HYGIENE   \n",
      "...         ...         ...       ...              ...   \n",
      "9995   33934312           4      6.95          HYGIENE   \n",
      "9996   33988514           4      4.75       MAQUILLAGE   \n",
      "9997   33988514           4      7.90       MAQUILLAGE   \n",
      "9998   34302529           6     13.90          HYGIENE   \n",
      "9999   34302529           6      6.95          HYGIENE   \n",
      "\n",
      "                          UNIVERS                MAILLE  \\\n",
      "0          HYG_DOUCHE JARDINMONDE               HYG_JDM   \n",
      "1          HYG_DOUCHE JARDINMONDE               HYG_JDM   \n",
      "2     VIS_CJOUR Jeunes Specifique    VIS_JEUNE_ET_LEVRE   \n",
      "3                  VIS_DEMAQ AAAR  VIS_AAAR_DEMAQLOTION   \n",
      "4          HYG_DOUCHE JARDINMONDE               HYG_JDM   \n",
      "...                           ...                   ...   \n",
      "9995              HYG_DEO PARFUMS          HYG_PARFUMEE   \n",
      "9996            MAQ_YEUX Sourcils    MAQ_YEUX_CLASSIQUE   \n",
      "9997             MAQ_YEUX Crayons    MAQ_YEUX_CLASSIQUE   \n",
      "9998              HYG_DEO PARFUMS          HYG_PARFUMEE   \n",
      "9999              HYG_DEO PARFUMS          HYG_PARFUMEE   \n",
      "\n",
      "                               LIBELLE     CLI_ID  \n",
      "0        GD JDM4 PAMPLEMOUSSE FL 200ML    1490281  \n",
      "1        GD JDM4 PAMPLEMOUSSE FL 200ML    1490281  \n",
      "2      CR JR PARF BIO.SPE AC.SENT.50ML    1490281  \n",
      "3        EAU MICELLAIRE 3 THES FL200ML    1490281  \n",
      "4               GD JDM4 TIARE FL 200ML    1490281  \n",
      "...                                ...        ...  \n",
      "9995        DEO PARFUME 100ML EVIDENCE  903871816  \n",
      "9996  CRAYON SOURCILS CHATAIN CN3 1.1G  903871816  \n",
      "9997       CRAYON REGARD NOIR CN3 1.3G  903871816  \n",
      "9998        DEO PARFUME 100ML EVIDENCE  903871816  \n",
      "9999        DEO PARFUME 100ML EVIDENCE  903871816  \n",
      "\n",
      "[10000 rows x 8 columns]\n"
     ]
    }
   ],
   "source": [
    "transactions = pd.read_csv('kado.csv', nrows=10000) \n",
    "print(transactions)"
   ]
  },
  {
   "cell_type": "code",
   "execution_count": 4,
   "metadata": {},
   "outputs": [],
   "source": [
    "data = pd.melt(transactions.set_index('CLI_ID')['TICKET_ID'].apply(pd.Series).reset_index(), \n",
    "             id_vars=['CLI_ID'],\n",
    "             value_name='TICKET_ID') \\\n",
    "    .dropna().drop(['variable'], axis=1) \\\n",
    "    .groupby(['CLI_ID', 'TICKET_ID']) \\\n",
    "    .agg({'TICKET_ID': 'count'}) \\\n",
    "    .rename(columns={'TICKET_ID': 'purchase_count'}) \\\n",
    "    .reset_index() \\\n",
    "    .rename(columns={'TICKET_ID': 'TICKET_ID'})\n",
    "data['TICKET_ID'] = data['TICKET_ID'].astype(np.int64)"
   ]
  },
  {
   "cell_type": "code",
   "execution_count": 5,
   "metadata": {},
   "outputs": [
    {
     "name": "stdout",
     "output_type": "stream",
     "text": [
      "(4051, 3)\n"
     ]
    },
    {
     "data": {
      "text/plain": [
       "<bound method NDFrame.head of          CLI_ID  TICKET_ID  purchase_count\n",
       "0       1490281   35592159               5\n",
       "1      13290776   35509899               2\n",
       "2      13290776   36417517               7\n",
       "3      20163348   33002894               1\n",
       "4      20200041   33064616               2\n",
       "...         ...        ...             ...\n",
       "4046  903871816   33710338               1\n",
       "4047  903871816   33819548               1\n",
       "4048  903871816   33934312               2\n",
       "4049  903871816   33988514               2\n",
       "4050  903871816   34302529               2\n",
       "\n",
       "[4051 rows x 3 columns]>"
      ]
     },
     "execution_count": 5,
     "metadata": {},
     "output_type": "execute_result"
    }
   ],
   "source": [
    "#Data preparation \n",
    "#liste des articles de la colonne produits en lignes et compte le nombre de produits achetés par un utilisateur  \n",
    "print(data.shape)\n",
    "data.head"
   ]
  },
  {
   "cell_type": "code",
   "execution_count": 6,
   "metadata": {},
   "outputs": [
    {
     "name": "stdout",
     "output_type": "stream",
     "text": [
      "         CLI_ID  TICKET_ID  purchase_count  purchase_dummy\n",
      "0       1490281   35592159               5               1\n",
      "1      13290776   35509899               2               1\n",
      "2      13290776   36417517               7               1\n",
      "3      20163348   33002894               1               1\n",
      "4      20200041   33064616               2               1\n",
      "...         ...        ...             ...             ...\n",
      "4046  903871816   33710338               1               1\n",
      "4047  903871816   33819548               1               1\n",
      "4048  903871816   33934312               2               1\n",
      "4049  903871816   33988514               2               1\n",
      "4050  903871816   34302529               2               1\n",
      "\n",
      "[4051 rows x 4 columns]\n"
     ]
    }
   ],
   "source": [
    "def create_data_dummy(data):\n",
    "    data_dummy = data.copy()\n",
    "    data_dummy['purchase_dummy'] = 1\n",
    "    return data_dummy\n",
    "data_dummy = create_data_dummy(data)\n",
    "print(data_dummy)"
   ]
  },
  {
   "cell_type": "code",
   "execution_count": 7,
   "metadata": {},
   "outputs": [],
   "source": [
    "df_matrix = pd.pivot_table(data, values='purchase_count', index='CLI_ID', columns='TICKET_ID')"
   ]
  },
  {
   "cell_type": "code",
   "execution_count": 8,
   "metadata": {},
   "outputs": [],
   "source": [
    "df_matrix_norm = (df_matrix-df_matrix.min())/(df_matrix.max()-df_matrix.min())"
   ]
  },
  {
   "cell_type": "code",
   "execution_count": 9,
   "metadata": {},
   "outputs": [
    {
     "name": "stdout",
     "output_type": "stream",
     "text": [
      "TICKET_ID  32932270  32932561  32935308  32935359  32935579  32935930  \\\n",
      "CLI_ID                                                                  \n",
      "1490281         NaN       NaN       NaN       NaN       NaN       NaN   \n",
      "13290776        NaN       NaN       NaN       NaN       NaN       NaN   \n",
      "20163348        NaN       NaN       NaN       NaN       NaN       NaN   \n",
      "20200041        NaN       NaN       NaN       NaN       NaN       NaN   \n",
      "20561854        NaN       NaN       NaN       NaN       NaN       NaN   \n",
      "...             ...       ...       ...       ...       ...       ...   \n",
      "903808381       NaN       NaN       NaN       NaN       NaN       NaN   \n",
      "903813373       NaN       NaN       NaN       NaN       NaN       NaN   \n",
      "903816590       NaN       NaN       NaN       NaN       NaN       NaN   \n",
      "903864631       NaN       NaN       NaN       NaN       NaN       NaN   \n",
      "903871816       NaN       NaN       NaN       NaN       NaN       NaN   \n",
      "\n",
      "TICKET_ID  32936527  32937458  32938156  32941252  ...  36508274  36508643  \\\n",
      "CLI_ID                                             ...                       \n",
      "1490281         NaN       NaN       NaN       NaN  ...       NaN       NaN   \n",
      "13290776        NaN       NaN       NaN       NaN  ...       NaN       NaN   \n",
      "20163348        NaN       NaN       NaN       NaN  ...       NaN       NaN   \n",
      "20200041        NaN       NaN       NaN       NaN  ...       NaN       NaN   \n",
      "20561854        NaN       NaN       NaN       NaN  ...       NaN       NaN   \n",
      "...             ...       ...       ...       ...  ...       ...       ...   \n",
      "903808381       NaN       NaN       NaN       NaN  ...       NaN       NaN   \n",
      "903813373       NaN       NaN       NaN       NaN  ...       NaN       NaN   \n",
      "903816590       NaN       NaN       NaN       NaN  ...       NaN       NaN   \n",
      "903864631       NaN       NaN       NaN       NaN  ...       NaN       NaN   \n",
      "903871816       NaN       NaN       NaN       NaN  ...       NaN       NaN   \n",
      "\n",
      "TICKET_ID  36508880  36509241  36509658  36510286  36513168  36517537  \\\n",
      "CLI_ID                                                                  \n",
      "1490281         NaN       NaN       NaN       NaN       NaN       NaN   \n",
      "13290776        NaN       NaN       NaN       NaN       NaN       NaN   \n",
      "20163348        NaN       NaN       NaN       NaN       NaN       NaN   \n",
      "20200041        NaN       NaN       NaN       NaN       NaN       NaN   \n",
      "20561854        NaN       NaN       NaN       NaN       NaN       NaN   \n",
      "...             ...       ...       ...       ...       ...       ...   \n",
      "903808381       NaN       NaN       NaN       NaN       NaN       NaN   \n",
      "903813373       NaN       NaN       NaN       NaN       NaN       NaN   \n",
      "903816590       NaN       NaN       NaN       NaN       NaN       NaN   \n",
      "903864631       NaN       NaN       NaN       NaN       NaN       NaN   \n",
      "903871816       NaN       NaN       NaN       NaN       NaN       NaN   \n",
      "\n",
      "TICKET_ID  36529042  36529803  \n",
      "CLI_ID                         \n",
      "1490281         NaN       NaN  \n",
      "13290776        NaN       NaN  \n",
      "20163348        NaN       NaN  \n",
      "20200041        NaN       NaN  \n",
      "20561854        NaN       NaN  \n",
      "...             ...       ...  \n",
      "903808381       NaN       NaN  \n",
      "903813373       NaN       NaN  \n",
      "903816590       NaN       NaN  \n",
      "903864631       NaN       NaN  \n",
      "903871816       NaN       NaN  \n",
      "\n",
      "[834 rows x 4051 columns]\n"
     ]
    }
   ],
   "source": [
    "print(df_matrix_norm)"
   ]
  },
  {
   "cell_type": "code",
   "execution_count": 12,
   "metadata": {},
   "outputs": [
    {
     "name": "stdout",
     "output_type": "stream",
     "text": [
      "(3378534, 3)\n"
     ]
    },
    {
     "data": {
      "text/html": [
       "<div>\n",
       "<style scoped>\n",
       "    .dataframe tbody tr th:only-of-type {\n",
       "        vertical-align: middle;\n",
       "    }\n",
       "\n",
       "    .dataframe tbody tr th {\n",
       "        vertical-align: top;\n",
       "    }\n",
       "\n",
       "    .dataframe thead th {\n",
       "        text-align: right;\n",
       "    }\n",
       "</style>\n",
       "<table border=\"1\" class=\"dataframe\">\n",
       "  <thead>\n",
       "    <tr style=\"text-align: right;\">\n",
       "      <th></th>\n",
       "      <th>CLI_ID</th>\n",
       "      <th>TICKET_ID</th>\n",
       "      <th>scaled_purchase_freq</th>\n",
       "    </tr>\n",
       "  </thead>\n",
       "  <tbody>\n",
       "    <tr>\n",
       "      <th>0</th>\n",
       "      <td>1490281</td>\n",
       "      <td>32932270</td>\n",
       "      <td>NaN</td>\n",
       "    </tr>\n",
       "    <tr>\n",
       "      <th>1</th>\n",
       "      <td>13290776</td>\n",
       "      <td>32932270</td>\n",
       "      <td>NaN</td>\n",
       "    </tr>\n",
       "    <tr>\n",
       "      <th>2</th>\n",
       "      <td>20163348</td>\n",
       "      <td>32932270</td>\n",
       "      <td>NaN</td>\n",
       "    </tr>\n",
       "    <tr>\n",
       "      <th>3</th>\n",
       "      <td>20200041</td>\n",
       "      <td>32932270</td>\n",
       "      <td>NaN</td>\n",
       "    </tr>\n",
       "    <tr>\n",
       "      <th>4</th>\n",
       "      <td>20561854</td>\n",
       "      <td>32932270</td>\n",
       "      <td>NaN</td>\n",
       "    </tr>\n",
       "  </tbody>\n",
       "</table>\n",
       "</div>"
      ],
      "text/plain": [
       "     CLI_ID TICKET_ID  scaled_purchase_freq\n",
       "0   1490281  32932270                   NaN\n",
       "1  13290776  32932270                   NaN\n",
       "2  20163348  32932270                   NaN\n",
       "3  20200041  32932270                   NaN\n",
       "4  20561854  32932270                   NaN"
      ]
     },
     "execution_count": 12,
     "metadata": {},
     "output_type": "execute_result"
    }
   ],
   "source": [
    "# create a table for input to the modeling  \n",
    "d = df_matrix_norm.reset_index() \n",
    "d.index.names = ['scaled_purchase_freq'] \n",
    "data_norm = pd.melt(d, id_vars=['CLI_ID'], value_name='scaled_purchase_freq')\n",
    "print(data_norm.shape)\n",
    "data_norm.head()"
   ]
  },
  {
   "cell_type": "code",
   "execution_count": 18,
   "metadata": {},
   "outputs": [],
   "source": [
    "def normalize_data(data):\n",
    "    df_matrix = pd.pivot_table(data, values='purchase_count', index='CLI_ID', columns='TICKET_ID')\n",
    "    df_matrix_norm = (df_matrix-df_matrix.min())/(df_matrix.max()-df_matrix.min())\n",
    "    d = df_matrix_norm.reset_index()\n",
    "    d.index.names = ['scaled_purchase_freq']\n",
    "    return pd.melt(d, id_vars=['CLI_ID'], value_name='scaled_purchase_freq').dropna()"
   ]
  },
  {
   "cell_type": "code",
   "execution_count": 19,
   "metadata": {},
   "outputs": [],
   "source": [
    "def split_data(data):\n",
    "    '''\n",
    "    Splits dataset into training and test set.\n",
    "    \n",
    "    Args:\n",
    "        data (pandas.DataFrame)\n",
    "        \n",
    "    Returns\n",
    "        train_data (tc.SFrame)\n",
    "        test_data (tc.SFrame)\n",
    "    '''\n",
    "    train, test = train_test_split(data, test_size = .2)\n",
    "    train_data = tc.SFrame(train)\n",
    "    test_data = tc.SFrame(test)\n",
    "    return train_data, test_data"
   ]
  },
  {
   "cell_type": "code",
   "execution_count": 20,
   "metadata": {},
   "outputs": [],
   "source": [
    "train_data, test_data = split_data(data)\n",
    "train_data_dummy, test_data_dummy = split_data(data_dummy)\n",
    "train_data_norm, test_data_norm = split_data(data_norm)"
   ]
  },
  {
   "cell_type": "code",
   "execution_count": 22,
   "metadata": {},
   "outputs": [],
   "source": [
    "# constant variables to define field names include:\n",
    "user_id = 'CLI_ID'\n",
    "item_id = 'TICKET_ID'\n",
    "users_to_recommend = list(transactions[user_id])\n",
    "n_rec = 10 # number of items to recommend\n",
    "n_display = 30 # to display the first few rows in an output dataset"
   ]
  },
  {
   "cell_type": "code",
   "execution_count": 27,
   "metadata": {},
   "outputs": [],
   "source": [
    "def model(train_data, name, user_id, item_id, target, users_to_recommend, n_rec, n_display):\n",
    "    if name == 'popularity':\n",
    "        model = tc.popularity_recommender.create(train_data, user_id=user_id,item_id=item_id, target=target)\n",
    "    elif name == 'cosine':\n",
    "        model = tc.item_similarity_recommender.create(train_data, \n",
    "                                                    user_id=user_id, \n",
    "                                                    item_id=item_id, \n",
    "                                                    target=target, \n",
    "                                                    similarity_type='cosine')\n",
    "    elif name == 'pearson':\n",
    "        model = tc.item_similarity_recommender.create(train_data, \n",
    "                                                    user_id=user_id, \n",
    "                                                    item_id=item_id, \n",
    "                                                    target=target, \n",
    "                                                    similarity_type='pearson')\n",
    "    recom = model.recommend(users=users_to_recommend, k=n_rec)\n",
    "    recom.print_rows(n_display)\n",
    "    return model"
   ]
  },
  {
   "cell_type": "code",
   "execution_count": 28,
   "metadata": {},
   "outputs": [
    {
     "data": {
      "text/html": [
       "<pre>Preparing data set.</pre>"
      ],
      "text/plain": [
       "Preparing data set."
      ]
     },
     "metadata": {},
     "output_type": "display_data"
    },
    {
     "data": {
      "text/html": [
       "<pre>    Data has 3240 observations with 787 users and 3240 items.</pre>"
      ],
      "text/plain": [
       "    Data has 3240 observations with 787 users and 3240 items."
      ]
     },
     "metadata": {},
     "output_type": "display_data"
    },
    {
     "data": {
      "text/html": [
       "<pre>    Data prepared in: 0.014181s</pre>"
      ],
      "text/plain": [
       "    Data prepared in: 0.014181s"
      ]
     },
     "metadata": {},
     "output_type": "display_data"
    },
    {
     "data": {
      "text/html": [
       "<pre>3240 observations to process; with 3240 unique items.</pre>"
      ],
      "text/plain": [
       "3240 observations to process; with 3240 unique items."
      ]
     },
     "metadata": {},
     "output_type": "display_data"
    },
    {
     "data": {
      "text/html": [
       "<pre>recommendations finished on 1000/10000 queries. users per second: 135208</pre>"
      ],
      "text/plain": [
       "recommendations finished on 1000/10000 queries. users per second: 135208"
      ]
     },
     "metadata": {},
     "output_type": "display_data"
    },
    {
     "data": {
      "text/html": [
       "<pre>recommendations finished on 2000/10000 queries. users per second: 126080</pre>"
      ],
      "text/plain": [
       "recommendations finished on 2000/10000 queries. users per second: 126080"
      ]
     },
     "metadata": {},
     "output_type": "display_data"
    },
    {
     "data": {
      "text/html": [
       "<pre>recommendations finished on 3000/10000 queries. users per second: 134144</pre>"
      ],
      "text/plain": [
       "recommendations finished on 3000/10000 queries. users per second: 134144"
      ]
     },
     "metadata": {},
     "output_type": "display_data"
    },
    {
     "data": {
      "text/html": [
       "<pre>recommendations finished on 4000/10000 queries. users per second: 141648</pre>"
      ],
      "text/plain": [
       "recommendations finished on 4000/10000 queries. users per second: 141648"
      ]
     },
     "metadata": {},
     "output_type": "display_data"
    },
    {
     "data": {
      "text/html": [
       "<pre>recommendations finished on 5000/10000 queries. users per second: 140881</pre>"
      ],
      "text/plain": [
       "recommendations finished on 5000/10000 queries. users per second: 140881"
      ]
     },
     "metadata": {},
     "output_type": "display_data"
    },
    {
     "data": {
      "text/html": [
       "<pre>recommendations finished on 6000/10000 queries. users per second: 133221</pre>"
      ],
      "text/plain": [
       "recommendations finished on 6000/10000 queries. users per second: 133221"
      ]
     },
     "metadata": {},
     "output_type": "display_data"
    },
    {
     "data": {
      "text/html": [
       "<pre>recommendations finished on 7000/10000 queries. users per second: 136444</pre>"
      ],
      "text/plain": [
       "recommendations finished on 7000/10000 queries. users per second: 136444"
      ]
     },
     "metadata": {},
     "output_type": "display_data"
    },
    {
     "data": {
      "text/html": [
       "<pre>recommendations finished on 8000/10000 queries. users per second: 139990</pre>"
      ],
      "text/plain": [
       "recommendations finished on 8000/10000 queries. users per second: 139990"
      ]
     },
     "metadata": {},
     "output_type": "display_data"
    },
    {
     "data": {
      "text/html": [
       "<pre>recommendations finished on 9000/10000 queries. users per second: 142766</pre>"
      ],
      "text/plain": [
       "recommendations finished on 9000/10000 queries. users per second: 142766"
      ]
     },
     "metadata": {},
     "output_type": "display_data"
    },
    {
     "data": {
      "text/html": [
       "<pre>recommendations finished on 10000/10000 queries. users per second: 137597</pre>"
      ],
      "text/plain": [
       "recommendations finished on 10000/10000 queries. users per second: 137597"
      ]
     },
     "metadata": {},
     "output_type": "display_data"
    },
    {
     "name": "stdout",
     "output_type": "stream",
     "text": [
      "+---------+-----------+-------+------+\n",
      "|  CLI_ID | TICKET_ID | score | rank |\n",
      "+---------+-----------+-------+------+\n",
      "| 1490281 |  34430302 |  22.0 |  1   |\n",
      "| 1490281 |  35812103 |  18.0 |  2   |\n",
      "| 1490281 |  33170055 |  16.0 |  3   |\n",
      "| 1490281 |  32974762 |  15.0 |  4   |\n",
      "| 1490281 |  33807357 |  14.0 |  5   |\n",
      "| 1490281 |  34773724 |  14.0 |  6   |\n",
      "| 1490281 |  35922164 |  14.0 |  7   |\n",
      "| 1490281 |  33930382 |  14.0 |  8   |\n",
      "| 1490281 |  35968166 |  13.0 |  9   |\n",
      "| 1490281 |  36260094 |  13.0 |  10  |\n",
      "| 1490281 |  34430302 |  22.0 |  1   |\n",
      "| 1490281 |  35812103 |  18.0 |  2   |\n",
      "| 1490281 |  33170055 |  16.0 |  3   |\n",
      "| 1490281 |  32974762 |  15.0 |  4   |\n",
      "| 1490281 |  33807357 |  14.0 |  5   |\n",
      "| 1490281 |  34773724 |  14.0 |  6   |\n",
      "| 1490281 |  35922164 |  14.0 |  7   |\n",
      "| 1490281 |  33930382 |  14.0 |  8   |\n",
      "| 1490281 |  35968166 |  13.0 |  9   |\n",
      "| 1490281 |  36260094 |  13.0 |  10  |\n",
      "| 1490281 |  34430302 |  22.0 |  1   |\n",
      "| 1490281 |  35812103 |  18.0 |  2   |\n",
      "| 1490281 |  33170055 |  16.0 |  3   |\n",
      "| 1490281 |  32974762 |  15.0 |  4   |\n",
      "| 1490281 |  33807357 |  14.0 |  5   |\n",
      "| 1490281 |  34773724 |  14.0 |  6   |\n",
      "| 1490281 |  35922164 |  14.0 |  7   |\n",
      "| 1490281 |  33930382 |  14.0 |  8   |\n",
      "| 1490281 |  35968166 |  13.0 |  9   |\n",
      "| 1490281 |  36260094 |  13.0 |  10  |\n",
      "+---------+-----------+-------+------+\n",
      "[100000 rows x 4 columns]\n",
      "\n"
     ]
    }
   ],
   "source": [
    "name = 'popularity'\n",
    "target = 'purchase_count'\n",
    "popularity = model(train_data, name, user_id, item_id, target, users_to_recommend, n_rec, n_display)"
   ]
  },
  {
   "cell_type": "code",
   "execution_count": 29,
   "metadata": {},
   "outputs": [
    {
     "data": {
      "text/html": [
       "<pre>Warning: Ignoring columns purchase_count;</pre>"
      ],
      "text/plain": [
       "Warning: Ignoring columns purchase_count;"
      ]
     },
     "metadata": {},
     "output_type": "display_data"
    },
    {
     "data": {
      "text/html": [
       "<pre>    To use these columns in scoring predictions, use a model that allows the use of additional features.</pre>"
      ],
      "text/plain": [
       "    To use these columns in scoring predictions, use a model that allows the use of additional features."
      ]
     },
     "metadata": {},
     "output_type": "display_data"
    },
    {
     "data": {
      "text/html": [
       "<pre>Preparing data set.</pre>"
      ],
      "text/plain": [
       "Preparing data set."
      ]
     },
     "metadata": {},
     "output_type": "display_data"
    },
    {
     "data": {
      "text/html": [
       "<pre>    Data has 3240 observations with 795 users and 3240 items.</pre>"
      ],
      "text/plain": [
       "    Data has 3240 observations with 795 users and 3240 items."
      ]
     },
     "metadata": {},
     "output_type": "display_data"
    },
    {
     "data": {
      "text/html": [
       "<pre>    Data prepared in: 0.012572s</pre>"
      ],
      "text/plain": [
       "    Data prepared in: 0.012572s"
      ]
     },
     "metadata": {},
     "output_type": "display_data"
    },
    {
     "data": {
      "text/html": [
       "<pre>3240 observations to process; with 3240 unique items.</pre>"
      ],
      "text/plain": [
       "3240 observations to process; with 3240 unique items."
      ]
     },
     "metadata": {},
     "output_type": "display_data"
    },
    {
     "data": {
      "text/html": [
       "<pre>recommendations finished on 1000/10000 queries. users per second: 80502.3</pre>"
      ],
      "text/plain": [
       "recommendations finished on 1000/10000 queries. users per second: 80502.3"
      ]
     },
     "metadata": {},
     "output_type": "display_data"
    },
    {
     "data": {
      "text/html": [
       "<pre>recommendations finished on 2000/10000 queries. users per second: 114982</pre>"
      ],
      "text/plain": [
       "recommendations finished on 2000/10000 queries. users per second: 114982"
      ]
     },
     "metadata": {},
     "output_type": "display_data"
    },
    {
     "data": {
      "text/html": [
       "<pre>recommendations finished on 3000/10000 queries. users per second: 131487</pre>"
      ],
      "text/plain": [
       "recommendations finished on 3000/10000 queries. users per second: 131487"
      ]
     },
     "metadata": {},
     "output_type": "display_data"
    },
    {
     "data": {
      "text/html": [
       "<pre>recommendations finished on 4000/10000 queries. users per second: 143256</pre>"
      ],
      "text/plain": [
       "recommendations finished on 4000/10000 queries. users per second: 143256"
      ]
     },
     "metadata": {},
     "output_type": "display_data"
    },
    {
     "data": {
      "text/html": [
       "<pre>recommendations finished on 5000/10000 queries. users per second: 151286</pre>"
      ],
      "text/plain": [
       "recommendations finished on 5000/10000 queries. users per second: 151286"
      ]
     },
     "metadata": {},
     "output_type": "display_data"
    },
    {
     "data": {
      "text/html": [
       "<pre>recommendations finished on 6000/10000 queries. users per second: 146099</pre>"
      ],
      "text/plain": [
       "recommendations finished on 6000/10000 queries. users per second: 146099"
      ]
     },
     "metadata": {},
     "output_type": "display_data"
    },
    {
     "data": {
      "text/html": [
       "<pre>recommendations finished on 7000/10000 queries. users per second: 148592</pre>"
      ],
      "text/plain": [
       "recommendations finished on 7000/10000 queries. users per second: 148592"
      ]
     },
     "metadata": {},
     "output_type": "display_data"
    },
    {
     "data": {
      "text/html": [
       "<pre>recommendations finished on 8000/10000 queries. users per second: 152850</pre>"
      ],
      "text/plain": [
       "recommendations finished on 8000/10000 queries. users per second: 152850"
      ]
     },
     "metadata": {},
     "output_type": "display_data"
    },
    {
     "data": {
      "text/html": [
       "<pre>recommendations finished on 9000/10000 queries. users per second: 157139</pre>"
      ],
      "text/plain": [
       "recommendations finished on 9000/10000 queries. users per second: 157139"
      ]
     },
     "metadata": {},
     "output_type": "display_data"
    },
    {
     "data": {
      "text/html": [
       "<pre>recommendations finished on 10000/10000 queries. users per second: 150062</pre>"
      ],
      "text/plain": [
       "recommendations finished on 10000/10000 queries. users per second: 150062"
      ]
     },
     "metadata": {},
     "output_type": "display_data"
    },
    {
     "name": "stdout",
     "output_type": "stream",
     "text": [
      "+---------+-----------+-------+------+\n",
      "|  CLI_ID | TICKET_ID | score | rank |\n",
      "+---------+-----------+-------+------+\n",
      "| 1490281 |  34575885 |  1.0  |  1   |\n",
      "| 1490281 |  34545883 |  1.0  |  2   |\n",
      "| 1490281 |  34713684 |  1.0  |  3   |\n",
      "| 1490281 |  33068440 |  1.0  |  4   |\n",
      "| 1490281 |  34792117 |  1.0  |  5   |\n",
      "| 1490281 |  33326041 |  1.0  |  6   |\n",
      "| 1490281 |  33780617 |  1.0  |  7   |\n",
      "| 1490281 |  35832190 |  1.0  |  8   |\n",
      "| 1490281 |  33988514 |  1.0  |  9   |\n",
      "| 1490281 |  35937981 |  1.0  |  10  |\n",
      "| 1490281 |  34575885 |  1.0  |  1   |\n",
      "| 1490281 |  34545883 |  1.0  |  2   |\n",
      "| 1490281 |  34713684 |  1.0  |  3   |\n",
      "| 1490281 |  33068440 |  1.0  |  4   |\n",
      "| 1490281 |  34792117 |  1.0  |  5   |\n",
      "| 1490281 |  33326041 |  1.0  |  6   |\n",
      "| 1490281 |  33780617 |  1.0  |  7   |\n",
      "| 1490281 |  35832190 |  1.0  |  8   |\n",
      "| 1490281 |  33988514 |  1.0  |  9   |\n",
      "| 1490281 |  35937981 |  1.0  |  10  |\n",
      "| 1490281 |  34575885 |  1.0  |  1   |\n",
      "| 1490281 |  34545883 |  1.0  |  2   |\n",
      "| 1490281 |  34713684 |  1.0  |  3   |\n",
      "| 1490281 |  33068440 |  1.0  |  4   |\n",
      "| 1490281 |  34792117 |  1.0  |  5   |\n",
      "| 1490281 |  33326041 |  1.0  |  6   |\n",
      "| 1490281 |  33780617 |  1.0  |  7   |\n",
      "| 1490281 |  35832190 |  1.0  |  8   |\n",
      "| 1490281 |  33988514 |  1.0  |  9   |\n",
      "| 1490281 |  35937981 |  1.0  |  10  |\n",
      "+---------+-----------+-------+------+\n",
      "[100000 rows x 4 columns]\n",
      "\n"
     ]
    }
   ],
   "source": [
    "name = 'popularity'\n",
    "target = 'purchase_dummy'\n",
    "pop_dummy = model(train_data_dummy, name, user_id, item_id, target, users_to_recommend, n_rec, n_display)"
   ]
  },
  {
   "cell_type": "code",
   "execution_count": 30,
   "metadata": {},
   "outputs": [
    {
     "data": {
      "text/html": [
       "<pre>Preparing data set.</pre>"
      ],
      "text/plain": [
       "Preparing data set."
      ]
     },
     "metadata": {},
     "output_type": "display_data"
    },
    {
     "data": {
      "text/html": [
       "<pre>    Data has 2702827 observations with 834 users and 4051 items.</pre>"
      ],
      "text/plain": [
       "    Data has 2702827 observations with 834 users and 4051 items."
      ]
     },
     "metadata": {},
     "output_type": "display_data"
    },
    {
     "data": {
      "text/html": [
       "<pre>    Data prepared in: 1.05972s</pre>"
      ],
      "text/plain": [
       "    Data prepared in: 1.05972s"
      ]
     },
     "metadata": {},
     "output_type": "display_data"
    },
    {
     "data": {
      "text/html": [
       "<pre>2702827 observations to process; with 4051 unique items.</pre>"
      ],
      "text/plain": [
       "2702827 observations to process; with 4051 unique items."
      ]
     },
     "metadata": {},
     "output_type": "display_data"
    },
    {
     "data": {
      "text/html": [
       "<pre>recommendations finished on 1000/10000 queries. users per second: 30245.3</pre>"
      ],
      "text/plain": [
       "recommendations finished on 1000/10000 queries. users per second: 30245.3"
      ]
     },
     "metadata": {},
     "output_type": "display_data"
    },
    {
     "data": {
      "text/html": [
       "<pre>recommendations finished on 2000/10000 queries. users per second: 30114.6</pre>"
      ],
      "text/plain": [
       "recommendations finished on 2000/10000 queries. users per second: 30114.6"
      ]
     },
     "metadata": {},
     "output_type": "display_data"
    },
    {
     "data": {
      "text/html": [
       "<pre>recommendations finished on 3000/10000 queries. users per second: 30006.9</pre>"
      ],
      "text/plain": [
       "recommendations finished on 3000/10000 queries. users per second: 30006.9"
      ]
     },
     "metadata": {},
     "output_type": "display_data"
    },
    {
     "data": {
      "text/html": [
       "<pre>recommendations finished on 4000/10000 queries. users per second: 30743.9</pre>"
      ],
      "text/plain": [
       "recommendations finished on 4000/10000 queries. users per second: 30743.9"
      ]
     },
     "metadata": {},
     "output_type": "display_data"
    },
    {
     "data": {
      "text/html": [
       "<pre>recommendations finished on 5000/10000 queries. users per second: 31574.2</pre>"
      ],
      "text/plain": [
       "recommendations finished on 5000/10000 queries. users per second: 31574.2"
      ]
     },
     "metadata": {},
     "output_type": "display_data"
    },
    {
     "data": {
      "text/html": [
       "<pre>recommendations finished on 6000/10000 queries. users per second: 32015.2</pre>"
      ],
      "text/plain": [
       "recommendations finished on 6000/10000 queries. users per second: 32015.2"
      ]
     },
     "metadata": {},
     "output_type": "display_data"
    },
    {
     "data": {
      "text/html": [
       "<pre>recommendations finished on 7000/10000 queries. users per second: 31372.4</pre>"
      ],
      "text/plain": [
       "recommendations finished on 7000/10000 queries. users per second: 31372.4"
      ]
     },
     "metadata": {},
     "output_type": "display_data"
    },
    {
     "data": {
      "text/html": [
       "<pre>recommendations finished on 8000/10000 queries. users per second: 32250.3</pre>"
      ],
      "text/plain": [
       "recommendations finished on 8000/10000 queries. users per second: 32250.3"
      ]
     },
     "metadata": {},
     "output_type": "display_data"
    },
    {
     "data": {
      "text/html": [
       "<pre>recommendations finished on 9000/10000 queries. users per second: 31985.1</pre>"
      ],
      "text/plain": [
       "recommendations finished on 9000/10000 queries. users per second: 31985.1"
      ]
     },
     "metadata": {},
     "output_type": "display_data"
    },
    {
     "data": {
      "text/html": [
       "<pre>recommendations finished on 10000/10000 queries. users per second: 26688.8</pre>"
      ],
      "text/plain": [
       "recommendations finished on 10000/10000 queries. users per second: 26688.8"
      ]
     },
     "metadata": {},
     "output_type": "display_data"
    },
    {
     "name": "stdout",
     "output_type": "stream",
     "text": [
      "+---------+-----------+-------+------+\n",
      "|  CLI_ID | TICKET_ID | score | rank |\n",
      "+---------+-----------+-------+------+\n",
      "| 1490281 |  35929105 |  nan  |  1   |\n",
      "| 1490281 |  33512354 |  nan  |  2   |\n",
      "| 1490281 |  34164655 |  nan  |  3   |\n",
      "| 1490281 |  34943586 |  nan  |  4   |\n",
      "| 1490281 |  36390834 |  nan  |  5   |\n",
      "| 1490281 |  35812103 |  nan  |  6   |\n",
      "| 1490281 |  33716134 |  nan  |  7   |\n",
      "| 1490281 |  33339960 |  nan  |  8   |\n",
      "| 1490281 |  34185155 |  nan  |  9   |\n",
      "| 1490281 |  34755041 |  nan  |  10  |\n",
      "| 1490281 |  35929105 |  nan  |  1   |\n",
      "| 1490281 |  33512354 |  nan  |  2   |\n",
      "| 1490281 |  34164655 |  nan  |  3   |\n",
      "| 1490281 |  34943586 |  nan  |  4   |\n",
      "| 1490281 |  36390834 |  nan  |  5   |\n",
      "| 1490281 |  35812103 |  nan  |  6   |\n",
      "| 1490281 |  33716134 |  nan  |  7   |\n",
      "| 1490281 |  33339960 |  nan  |  8   |\n",
      "| 1490281 |  34185155 |  nan  |  9   |\n",
      "| 1490281 |  34755041 |  nan  |  10  |\n",
      "| 1490281 |  35929105 |  nan  |  1   |\n",
      "| 1490281 |  33512354 |  nan  |  2   |\n",
      "| 1490281 |  34164655 |  nan  |  3   |\n",
      "| 1490281 |  34943586 |  nan  |  4   |\n",
      "| 1490281 |  36390834 |  nan  |  5   |\n",
      "| 1490281 |  35812103 |  nan  |  6   |\n",
      "| 1490281 |  33716134 |  nan  |  7   |\n",
      "| 1490281 |  33339960 |  nan  |  8   |\n",
      "| 1490281 |  34185155 |  nan  |  9   |\n",
      "| 1490281 |  34755041 |  nan  |  10  |\n",
      "+---------+-----------+-------+------+\n",
      "[100000 rows x 4 columns]\n",
      "\n"
     ]
    }
   ],
   "source": [
    "name = 'popularity'\n",
    "target = 'scaled_purchase_freq'\n",
    "pop_norm = model(train_data_norm, name, user_id, item_id, target, users_to_recommend, n_rec, n_display)"
   ]
  },
  {
   "cell_type": "code",
   "execution_count": 31,
   "metadata": {},
   "outputs": [
    {
     "data": {
      "text/html": [
       "<pre>Preparing data set.</pre>"
      ],
      "text/plain": [
       "Preparing data set."
      ]
     },
     "metadata": {},
     "output_type": "display_data"
    },
    {
     "data": {
      "text/html": [
       "<pre>    Data has 3240 observations with 787 users and 3240 items.</pre>"
      ],
      "text/plain": [
       "    Data has 3240 observations with 787 users and 3240 items."
      ]
     },
     "metadata": {},
     "output_type": "display_data"
    },
    {
     "data": {
      "text/html": [
       "<pre>    Data prepared in: 0.008923s</pre>"
      ],
      "text/plain": [
       "    Data prepared in: 0.008923s"
      ]
     },
     "metadata": {},
     "output_type": "display_data"
    },
    {
     "data": {
      "text/html": [
       "<pre>Training model from provided data.</pre>"
      ],
      "text/plain": [
       "Training model from provided data."
      ]
     },
     "metadata": {},
     "output_type": "display_data"
    },
    {
     "data": {
      "text/html": [
       "<pre>Gathering per-item and per-user statistics.</pre>"
      ],
      "text/plain": [
       "Gathering per-item and per-user statistics."
      ]
     },
     "metadata": {},
     "output_type": "display_data"
    },
    {
     "data": {
      "text/html": [
       "<pre>+--------------------------------+------------+</pre>"
      ],
      "text/plain": [
       "+--------------------------------+------------+"
      ]
     },
     "metadata": {},
     "output_type": "display_data"
    },
    {
     "data": {
      "text/html": [
       "<pre>| Elapsed Time (Item Statistics) | % Complete |</pre>"
      ],
      "text/plain": [
       "| Elapsed Time (Item Statistics) | % Complete |"
      ]
     },
     "metadata": {},
     "output_type": "display_data"
    },
    {
     "data": {
      "text/html": [
       "<pre>+--------------------------------+------------+</pre>"
      ],
      "text/plain": [
       "+--------------------------------+------------+"
      ]
     },
     "metadata": {},
     "output_type": "display_data"
    },
    {
     "data": {
      "text/html": [
       "<pre>| 2.995ms                        | 100        |</pre>"
      ],
      "text/plain": [
       "| 2.995ms                        | 100        |"
      ]
     },
     "metadata": {},
     "output_type": "display_data"
    },
    {
     "data": {
      "text/html": [
       "<pre>+--------------------------------+------------+</pre>"
      ],
      "text/plain": [
       "+--------------------------------+------------+"
      ]
     },
     "metadata": {},
     "output_type": "display_data"
    },
    {
     "data": {
      "text/html": [
       "<pre>Setting up lookup tables.</pre>"
      ],
      "text/plain": [
       "Setting up lookup tables."
      ]
     },
     "metadata": {},
     "output_type": "display_data"
    },
    {
     "data": {
      "text/html": [
       "<pre>Processing data in one pass using dense lookup tables.</pre>"
      ],
      "text/plain": [
       "Processing data in one pass using dense lookup tables."
      ]
     },
     "metadata": {},
     "output_type": "display_data"
    },
    {
     "data": {
      "text/html": [
       "<pre>+-------------------------------------+------------------+-----------------+</pre>"
      ],
      "text/plain": [
       "+-------------------------------------+------------------+-----------------+"
      ]
     },
     "metadata": {},
     "output_type": "display_data"
    },
    {
     "data": {
      "text/html": [
       "<pre>| Elapsed Time (Constructing Lookups) | Total % Complete | Items Processed |</pre>"
      ],
      "text/plain": [
       "| Elapsed Time (Constructing Lookups) | Total % Complete | Items Processed |"
      ]
     },
     "metadata": {},
     "output_type": "display_data"
    },
    {
     "data": {
      "text/html": [
       "<pre>+-------------------------------------+------------------+-----------------+</pre>"
      ],
      "text/plain": [
       "+-------------------------------------+------------------+-----------------+"
      ]
     },
     "metadata": {},
     "output_type": "display_data"
    },
    {
     "data": {
      "text/html": [
       "<pre>| 59.793ms                            | 0.25             | 11              |</pre>"
      ],
      "text/plain": [
       "| 59.793ms                            | 0.25             | 11              |"
      ]
     },
     "metadata": {},
     "output_type": "display_data"
    },
    {
     "data": {
      "text/html": [
       "<pre>| 137.151ms                           | 100              | 3240            |</pre>"
      ],
      "text/plain": [
       "| 137.151ms                           | 100              | 3240            |"
      ]
     },
     "metadata": {},
     "output_type": "display_data"
    },
    {
     "data": {
      "text/html": [
       "<pre>+-------------------------------------+------------------+-----------------+</pre>"
      ],
      "text/plain": [
       "+-------------------------------------+------------------+-----------------+"
      ]
     },
     "metadata": {},
     "output_type": "display_data"
    },
    {
     "data": {
      "text/html": [
       "<pre>Finalizing lookup tables.</pre>"
      ],
      "text/plain": [
       "Finalizing lookup tables."
      ]
     },
     "metadata": {},
     "output_type": "display_data"
    },
    {
     "data": {
      "text/html": [
       "<pre>Generating candidate set for working with new users.</pre>"
      ],
      "text/plain": [
       "Generating candidate set for working with new users."
      ]
     },
     "metadata": {},
     "output_type": "display_data"
    },
    {
     "data": {
      "text/html": [
       "<pre>Finished training in 1.14264s</pre>"
      ],
      "text/plain": [
       "Finished training in 1.14264s"
      ]
     },
     "metadata": {},
     "output_type": "display_data"
    },
    {
     "data": {
      "text/html": [
       "<pre>recommendations finished on 1000/10000 queries. users per second: 79346.2</pre>"
      ],
      "text/plain": [
       "recommendations finished on 1000/10000 queries. users per second: 79346.2"
      ]
     },
     "metadata": {},
     "output_type": "display_data"
    },
    {
     "data": {
      "text/html": [
       "<pre>recommendations finished on 2000/10000 queries. users per second: 95992.3</pre>"
      ],
      "text/plain": [
       "recommendations finished on 2000/10000 queries. users per second: 95992.3"
      ]
     },
     "metadata": {},
     "output_type": "display_data"
    },
    {
     "data": {
      "text/html": [
       "<pre>recommendations finished on 3000/10000 queries. users per second: 104272</pre>"
      ],
      "text/plain": [
       "recommendations finished on 3000/10000 queries. users per second: 104272"
      ]
     },
     "metadata": {},
     "output_type": "display_data"
    },
    {
     "data": {
      "text/html": [
       "<pre>recommendations finished on 4000/10000 queries. users per second: 99681</pre>"
      ],
      "text/plain": [
       "recommendations finished on 4000/10000 queries. users per second: 99681"
      ]
     },
     "metadata": {},
     "output_type": "display_data"
    },
    {
     "name": "stdout",
     "output_type": "stream",
     "text": [
      "+---------+-----------+----------------------+------+\n",
      "|  CLI_ID | TICKET_ID |        score         | rank |\n",
      "+---------+-----------+----------------------+------+\n",
      "| 1490281 |  35248566 | 0.010476189851760864 |  1   |\n",
      "| 1490281 |  33834593 | 0.010476189851760864 |  2   |\n",
      "| 1490281 |  35968166 | 0.005714285373687744 |  3   |\n",
      "| 1490281 |  34869237 | 0.005714285373687744 |  4   |\n",
      "| 1490281 |  34053370 | 0.005714285373687744 |  5   |\n",
      "| 1490281 |  33363224 | 0.005714285373687744 |  6   |\n",
      "| 1490281 |  34450331 | 0.005714285373687744 |  7   |\n",
      "| 1490281 |  33403520 | 0.005714285373687744 |  8   |\n",
      "| 1490281 |  33920967 | 0.005714285373687744 |  9   |\n",
      "| 1490281 |  34096507 | 0.005714285373687744 |  10  |\n",
      "| 1490281 |  35248566 | 0.010476189851760864 |  1   |\n",
      "| 1490281 |  33834593 | 0.010476189851760864 |  2   |\n",
      "| 1490281 |  35968166 | 0.005714285373687744 |  3   |\n",
      "| 1490281 |  34869237 | 0.005714285373687744 |  4   |\n",
      "| 1490281 |  34053370 | 0.005714285373687744 |  5   |\n",
      "| 1490281 |  33363224 | 0.005714285373687744 |  6   |\n",
      "| 1490281 |  34450331 | 0.005714285373687744 |  7   |\n",
      "| 1490281 |  33403520 | 0.005714285373687744 |  8   |\n",
      "| 1490281 |  33920967 | 0.005714285373687744 |  9   |\n",
      "| 1490281 |  34096507 | 0.005714285373687744 |  10  |\n",
      "| 1490281 |  35248566 | 0.010476189851760864 |  1   |\n",
      "| 1490281 |  33834593 | 0.010476189851760864 |  2   |\n",
      "| 1490281 |  35968166 | 0.005714285373687744 |  3   |\n",
      "| 1490281 |  34869237 | 0.005714285373687744 |  4   |\n",
      "| 1490281 |  34053370 | 0.005714285373687744 |  5   |\n",
      "| 1490281 |  33363224 | 0.005714285373687744 |  6   |\n",
      "| 1490281 |  34450331 | 0.005714285373687744 |  7   |\n",
      "| 1490281 |  33403520 | 0.005714285373687744 |  8   |\n",
      "| 1490281 |  33920967 | 0.005714285373687744 |  9   |\n",
      "| 1490281 |  34096507 | 0.005714285373687744 |  10  |\n",
      "+---------+-----------+----------------------+------+\n",
      "[100000 rows x 4 columns]\n",
      "\n"
     ]
    },
    {
     "data": {
      "text/html": [
       "<pre>recommendations finished on 5000/10000 queries. users per second: 98827.9</pre>"
      ],
      "text/plain": [
       "recommendations finished on 5000/10000 queries. users per second: 98827.9"
      ]
     },
     "metadata": {},
     "output_type": "display_data"
    },
    {
     "data": {
      "text/html": [
       "<pre>recommendations finished on 6000/10000 queries. users per second: 100798</pre>"
      ],
      "text/plain": [
       "recommendations finished on 6000/10000 queries. users per second: 100798"
      ]
     },
     "metadata": {},
     "output_type": "display_data"
    },
    {
     "data": {
      "text/html": [
       "<pre>recommendations finished on 7000/10000 queries. users per second: 105605</pre>"
      ],
      "text/plain": [
       "recommendations finished on 7000/10000 queries. users per second: 105605"
      ]
     },
     "metadata": {},
     "output_type": "display_data"
    },
    {
     "data": {
      "text/html": [
       "<pre>recommendations finished on 8000/10000 queries. users per second: 105430</pre>"
      ],
      "text/plain": [
       "recommendations finished on 8000/10000 queries. users per second: 105430"
      ]
     },
     "metadata": {},
     "output_type": "display_data"
    },
    {
     "data": {
      "text/html": [
       "<pre>recommendations finished on 9000/10000 queries. users per second: 106508</pre>"
      ],
      "text/plain": [
       "recommendations finished on 9000/10000 queries. users per second: 106508"
      ]
     },
     "metadata": {},
     "output_type": "display_data"
    },
    {
     "data": {
      "text/html": [
       "<pre>recommendations finished on 10000/10000 queries. users per second: 99401.6</pre>"
      ],
      "text/plain": [
       "recommendations finished on 10000/10000 queries. users per second: 99401.6"
      ]
     },
     "metadata": {},
     "output_type": "display_data"
    }
   ],
   "source": [
    "#Collaborative Filtering Model\n",
    "name = 'cosine'\n",
    "target = 'purchase_count'\n",
    "cos = model(train_data, name, user_id, item_id, target, users_to_recommend, n_rec, n_display)"
   ]
  },
  {
   "cell_type": "code",
   "execution_count": 33,
   "metadata": {},
   "outputs": [
    {
     "data": {
      "text/html": [
       "<pre>Preparing data set.</pre>"
      ],
      "text/plain": [
       "Preparing data set."
      ]
     },
     "metadata": {},
     "output_type": "display_data"
    },
    {
     "data": {
      "text/html": [
       "<pre>    Data has 3240 observations with 787 users and 3240 items.</pre>"
      ],
      "text/plain": [
       "    Data has 3240 observations with 787 users and 3240 items."
      ]
     },
     "metadata": {},
     "output_type": "display_data"
    },
    {
     "data": {
      "text/html": [
       "<pre>    Data prepared in: 0.005658s</pre>"
      ],
      "text/plain": [
       "    Data prepared in: 0.005658s"
      ]
     },
     "metadata": {},
     "output_type": "display_data"
    },
    {
     "data": {
      "text/html": [
       "<pre>Training model from provided data.</pre>"
      ],
      "text/plain": [
       "Training model from provided data."
      ]
     },
     "metadata": {},
     "output_type": "display_data"
    },
    {
     "data": {
      "text/html": [
       "<pre>Gathering per-item and per-user statistics.</pre>"
      ],
      "text/plain": [
       "Gathering per-item and per-user statistics."
      ]
     },
     "metadata": {},
     "output_type": "display_data"
    },
    {
     "data": {
      "text/html": [
       "<pre>+--------------------------------+------------+</pre>"
      ],
      "text/plain": [
       "+--------------------------------+------------+"
      ]
     },
     "metadata": {},
     "output_type": "display_data"
    },
    {
     "data": {
      "text/html": [
       "<pre>| Elapsed Time (Item Statistics) | % Complete |</pre>"
      ],
      "text/plain": [
       "| Elapsed Time (Item Statistics) | % Complete |"
      ]
     },
     "metadata": {},
     "output_type": "display_data"
    },
    {
     "data": {
      "text/html": [
       "<pre>+--------------------------------+------------+</pre>"
      ],
      "text/plain": [
       "+--------------------------------+------------+"
      ]
     },
     "metadata": {},
     "output_type": "display_data"
    },
    {
     "data": {
      "text/html": [
       "<pre>| 496us                          | 100        |</pre>"
      ],
      "text/plain": [
       "| 496us                          | 100        |"
      ]
     },
     "metadata": {},
     "output_type": "display_data"
    },
    {
     "data": {
      "text/html": [
       "<pre>+--------------------------------+------------+</pre>"
      ],
      "text/plain": [
       "+--------------------------------+------------+"
      ]
     },
     "metadata": {},
     "output_type": "display_data"
    },
    {
     "data": {
      "text/html": [
       "<pre>Setting up lookup tables.</pre>"
      ],
      "text/plain": [
       "Setting up lookup tables."
      ]
     },
     "metadata": {},
     "output_type": "display_data"
    },
    {
     "data": {
      "text/html": [
       "<pre>Processing data in one pass using dense lookup tables.</pre>"
      ],
      "text/plain": [
       "Processing data in one pass using dense lookup tables."
      ]
     },
     "metadata": {},
     "output_type": "display_data"
    },
    {
     "data": {
      "text/html": [
       "<pre>+-------------------------------------+------------------+-----------------+</pre>"
      ],
      "text/plain": [
       "+-------------------------------------+------------------+-----------------+"
      ]
     },
     "metadata": {},
     "output_type": "display_data"
    },
    {
     "data": {
      "text/html": [
       "<pre>| Elapsed Time (Constructing Lookups) | Total % Complete | Items Processed |</pre>"
      ],
      "text/plain": [
       "| Elapsed Time (Constructing Lookups) | Total % Complete | Items Processed |"
      ]
     },
     "metadata": {},
     "output_type": "display_data"
    },
    {
     "data": {
      "text/html": [
       "<pre>+-------------------------------------+------------------+-----------------+</pre>"
      ],
      "text/plain": [
       "+-------------------------------------+------------------+-----------------+"
      ]
     },
     "metadata": {},
     "output_type": "display_data"
    },
    {
     "data": {
      "text/html": [
       "<pre>| 9.572ms                             | 0.25             | 11              |</pre>"
      ],
      "text/plain": [
       "| 9.572ms                             | 0.25             | 11              |"
      ]
     },
     "metadata": {},
     "output_type": "display_data"
    },
    {
     "data": {
      "text/html": [
       "<pre>| 29.68ms                             | 100              | 3240            |</pre>"
      ],
      "text/plain": [
       "| 29.68ms                             | 100              | 3240            |"
      ]
     },
     "metadata": {},
     "output_type": "display_data"
    },
    {
     "data": {
      "text/html": [
       "<pre>+-------------------------------------+------------------+-----------------+</pre>"
      ],
      "text/plain": [
       "+-------------------------------------+------------------+-----------------+"
      ]
     },
     "metadata": {},
     "output_type": "display_data"
    },
    {
     "data": {
      "text/html": [
       "<pre>Finalizing lookup tables.</pre>"
      ],
      "text/plain": [
       "Finalizing lookup tables."
      ]
     },
     "metadata": {},
     "output_type": "display_data"
    },
    {
     "data": {
      "text/html": [
       "<pre>Generating candidate set for working with new users.</pre>"
      ],
      "text/plain": [
       "Generating candidate set for working with new users."
      ]
     },
     "metadata": {},
     "output_type": "display_data"
    },
    {
     "data": {
      "text/html": [
       "<pre>Finished training in 0.033412s</pre>"
      ],
      "text/plain": [
       "Finished training in 0.033412s"
      ]
     },
     "metadata": {},
     "output_type": "display_data"
    },
    {
     "data": {
      "text/html": [
       "<pre>recommendations finished on 1000/10000 queries. users per second: 75358</pre>"
      ],
      "text/plain": [
       "recommendations finished on 1000/10000 queries. users per second: 75358"
      ]
     },
     "metadata": {},
     "output_type": "display_data"
    },
    {
     "data": {
      "text/html": [
       "<pre>recommendations finished on 2000/10000 queries. users per second: 69778.8</pre>"
      ],
      "text/plain": [
       "recommendations finished on 2000/10000 queries. users per second: 69778.8"
      ]
     },
     "metadata": {},
     "output_type": "display_data"
    },
    {
     "data": {
      "text/html": [
       "<pre>recommendations finished on 3000/10000 queries. users per second: 77491.3</pre>"
      ],
      "text/plain": [
       "recommendations finished on 3000/10000 queries. users per second: 77491.3"
      ]
     },
     "metadata": {},
     "output_type": "display_data"
    },
    {
     "data": {
      "text/html": [
       "<pre>recommendations finished on 4000/10000 queries. users per second: 79492.8</pre>"
      ],
      "text/plain": [
       "recommendations finished on 4000/10000 queries. users per second: 79492.8"
      ]
     },
     "metadata": {},
     "output_type": "display_data"
    },
    {
     "data": {
      "text/html": [
       "<pre>recommendations finished on 5000/10000 queries. users per second: 76349.9</pre>"
      ],
      "text/plain": [
       "recommendations finished on 5000/10000 queries. users per second: 76349.9"
      ]
     },
     "metadata": {},
     "output_type": "display_data"
    },
    {
     "data": {
      "text/html": [
       "<pre>recommendations finished on 6000/10000 queries. users per second: 76032.1</pre>"
      ],
      "text/plain": [
       "recommendations finished on 6000/10000 queries. users per second: 76032.1"
      ]
     },
     "metadata": {},
     "output_type": "display_data"
    },
    {
     "data": {
      "text/html": [
       "<pre>recommendations finished on 7000/10000 queries. users per second: 78400.6</pre>"
      ],
      "text/plain": [
       "recommendations finished on 7000/10000 queries. users per second: 78400.6"
      ]
     },
     "metadata": {},
     "output_type": "display_data"
    },
    {
     "data": {
      "text/html": [
       "<pre>recommendations finished on 8000/10000 queries. users per second: 76360.7</pre>"
      ],
      "text/plain": [
       "recommendations finished on 8000/10000 queries. users per second: 76360.7"
      ]
     },
     "metadata": {},
     "output_type": "display_data"
    },
    {
     "name": "stdout",
     "output_type": "stream",
     "text": [
      "+---------+-----------+--------------------+------+\n",
      "|  CLI_ID | TICKET_ID |       score        | rank |\n",
      "+---------+-----------+--------------------+------+\n",
      "| 1490281 |  34430302 |        1.0         |  1   |\n",
      "| 1490281 |  35812103 | 0.8095238095238095 |  2   |\n",
      "| 1490281 |  33170055 | 0.7142857142857143 |  3   |\n",
      "| 1490281 |  32974762 | 0.6666666666666666 |  4   |\n",
      "| 1490281 |  33807357 | 0.6190476190476191 |  5   |\n",
      "| 1490281 |  34773724 | 0.6190476190476191 |  6   |\n",
      "| 1490281 |  35922164 | 0.6190476190476191 |  7   |\n",
      "| 1490281 |  33930382 | 0.6190476190476191 |  8   |\n",
      "| 1490281 |  35968166 | 0.5714285714285714 |  9   |\n",
      "| 1490281 |  36260094 | 0.5714285714285714 |  10  |\n",
      "| 1490281 |  34430302 |        1.0         |  1   |\n",
      "| 1490281 |  35812103 | 0.8095238095238095 |  2   |\n",
      "| 1490281 |  33170055 | 0.7142857142857143 |  3   |\n",
      "| 1490281 |  32974762 | 0.6666666666666666 |  4   |\n",
      "| 1490281 |  33807357 | 0.6190476190476191 |  5   |\n",
      "| 1490281 |  34773724 | 0.6190476190476191 |  6   |\n",
      "| 1490281 |  35922164 | 0.6190476190476191 |  7   |\n",
      "| 1490281 |  33930382 | 0.6190476190476191 |  8   |\n",
      "| 1490281 |  35968166 | 0.5714285714285714 |  9   |\n",
      "| 1490281 |  36260094 | 0.5714285714285714 |  10  |\n",
      "| 1490281 |  34430302 |        1.0         |  1   |\n",
      "| 1490281 |  35812103 | 0.8095238095238095 |  2   |\n",
      "| 1490281 |  33170055 | 0.7142857142857143 |  3   |\n",
      "| 1490281 |  32974762 | 0.6666666666666666 |  4   |\n",
      "| 1490281 |  33807357 | 0.6190476190476191 |  5   |\n",
      "| 1490281 |  34773724 | 0.6190476190476191 |  6   |\n",
      "| 1490281 |  35922164 | 0.6190476190476191 |  7   |\n",
      "| 1490281 |  33930382 | 0.6190476190476191 |  8   |\n",
      "| 1490281 |  35968166 | 0.5714285714285714 |  9   |\n",
      "| 1490281 |  36260094 | 0.5714285714285714 |  10  |\n",
      "+---------+-----------+--------------------+------+\n",
      "[100000 rows x 4 columns]\n",
      "\n"
     ]
    },
    {
     "data": {
      "text/html": [
       "<pre>recommendations finished on 9000/10000 queries. users per second: 74709.3</pre>"
      ],
      "text/plain": [
       "recommendations finished on 9000/10000 queries. users per second: 74709.3"
      ]
     },
     "metadata": {},
     "output_type": "display_data"
    },
    {
     "data": {
      "text/html": [
       "<pre>recommendations finished on 10000/10000 queries. users per second: 68441.1</pre>"
      ],
      "text/plain": [
       "recommendations finished on 10000/10000 queries. users per second: 68441.1"
      ]
     },
     "metadata": {},
     "output_type": "display_data"
    }
   ],
   "source": [
    "#person similarity\n",
    "name = 'pearson'\n",
    "target = 'purchase_count'\n",
    "pear = model(train_data, name, user_id, item_id, target, users_to_recommend, n_rec, n_display)"
   ]
  },
  {
   "cell_type": "code",
   "execution_count": 34,
   "metadata": {},
   "outputs": [
    {
     "data": {
      "text/html": [
       "<pre>Warning: Ignoring columns purchase_count;</pre>"
      ],
      "text/plain": [
       "Warning: Ignoring columns purchase_count;"
      ]
     },
     "metadata": {},
     "output_type": "display_data"
    },
    {
     "data": {
      "text/html": [
       "<pre>    To use these columns in scoring predictions, use a model that allows the use of additional features.</pre>"
      ],
      "text/plain": [
       "    To use these columns in scoring predictions, use a model that allows the use of additional features."
      ]
     },
     "metadata": {},
     "output_type": "display_data"
    },
    {
     "data": {
      "text/html": [
       "<pre>Preparing data set.</pre>"
      ],
      "text/plain": [
       "Preparing data set."
      ]
     },
     "metadata": {},
     "output_type": "display_data"
    },
    {
     "data": {
      "text/html": [
       "<pre>    Data has 3240 observations with 795 users and 3240 items.</pre>"
      ],
      "text/plain": [
       "    Data has 3240 observations with 795 users and 3240 items."
      ]
     },
     "metadata": {},
     "output_type": "display_data"
    },
    {
     "data": {
      "text/html": [
       "<pre>    Data prepared in: 0.009587s</pre>"
      ],
      "text/plain": [
       "    Data prepared in: 0.009587s"
      ]
     },
     "metadata": {},
     "output_type": "display_data"
    },
    {
     "data": {
      "text/html": [
       "<pre>Training model from provided data.</pre>"
      ],
      "text/plain": [
       "Training model from provided data."
      ]
     },
     "metadata": {},
     "output_type": "display_data"
    },
    {
     "data": {
      "text/html": [
       "<pre>Gathering per-item and per-user statistics.</pre>"
      ],
      "text/plain": [
       "Gathering per-item and per-user statistics."
      ]
     },
     "metadata": {},
     "output_type": "display_data"
    },
    {
     "data": {
      "text/html": [
       "<pre>+--------------------------------+------------+</pre>"
      ],
      "text/plain": [
       "+--------------------------------+------------+"
      ]
     },
     "metadata": {},
     "output_type": "display_data"
    },
    {
     "data": {
      "text/html": [
       "<pre>| Elapsed Time (Item Statistics) | % Complete |</pre>"
      ],
      "text/plain": [
       "| Elapsed Time (Item Statistics) | % Complete |"
      ]
     },
     "metadata": {},
     "output_type": "display_data"
    },
    {
     "data": {
      "text/html": [
       "<pre>+--------------------------------+------------+</pre>"
      ],
      "text/plain": [
       "+--------------------------------+------------+"
      ]
     },
     "metadata": {},
     "output_type": "display_data"
    },
    {
     "data": {
      "text/html": [
       "<pre>| 7.14ms                         | 100        |</pre>"
      ],
      "text/plain": [
       "| 7.14ms                         | 100        |"
      ]
     },
     "metadata": {},
     "output_type": "display_data"
    },
    {
     "data": {
      "text/html": [
       "<pre>+--------------------------------+------------+</pre>"
      ],
      "text/plain": [
       "+--------------------------------+------------+"
      ]
     },
     "metadata": {},
     "output_type": "display_data"
    },
    {
     "data": {
      "text/html": [
       "<pre>Setting up lookup tables.</pre>"
      ],
      "text/plain": [
       "Setting up lookup tables."
      ]
     },
     "metadata": {},
     "output_type": "display_data"
    },
    {
     "data": {
      "text/html": [
       "<pre>Processing data in one pass using dense lookup tables.</pre>"
      ],
      "text/plain": [
       "Processing data in one pass using dense lookup tables."
      ]
     },
     "metadata": {},
     "output_type": "display_data"
    },
    {
     "data": {
      "text/html": [
       "<pre>+-------------------------------------+------------------+-----------------+</pre>"
      ],
      "text/plain": [
       "+-------------------------------------+------------------+-----------------+"
      ]
     },
     "metadata": {},
     "output_type": "display_data"
    },
    {
     "data": {
      "text/html": [
       "<pre>| Elapsed Time (Constructing Lookups) | Total % Complete | Items Processed |</pre>"
      ],
      "text/plain": [
       "| Elapsed Time (Constructing Lookups) | Total % Complete | Items Processed |"
      ]
     },
     "metadata": {},
     "output_type": "display_data"
    },
    {
     "data": {
      "text/html": [
       "<pre>+-------------------------------------+------------------+-----------------+</pre>"
      ],
      "text/plain": [
       "+-------------------------------------+------------------+-----------------+"
      ]
     },
     "metadata": {},
     "output_type": "display_data"
    },
    {
     "data": {
      "text/html": [
       "<pre>| 15.161ms                            | 0                | 3               |</pre>"
      ],
      "text/plain": [
       "| 15.161ms                            | 0                | 3               |"
      ]
     },
     "metadata": {},
     "output_type": "display_data"
    },
    {
     "data": {
      "text/html": [
       "<pre>| 38.089ms                            | 100              | 3240            |</pre>"
      ],
      "text/plain": [
       "| 38.089ms                            | 100              | 3240            |"
      ]
     },
     "metadata": {},
     "output_type": "display_data"
    },
    {
     "data": {
      "text/html": [
       "<pre>+-------------------------------------+------------------+-----------------+</pre>"
      ],
      "text/plain": [
       "+-------------------------------------+------------------+-----------------+"
      ]
     },
     "metadata": {},
     "output_type": "display_data"
    },
    {
     "data": {
      "text/html": [
       "<pre>Finalizing lookup tables.</pre>"
      ],
      "text/plain": [
       "Finalizing lookup tables."
      ]
     },
     "metadata": {},
     "output_type": "display_data"
    },
    {
     "data": {
      "text/html": [
       "<pre>Generating candidate set for working with new users.</pre>"
      ],
      "text/plain": [
       "Generating candidate set for working with new users."
      ]
     },
     "metadata": {},
     "output_type": "display_data"
    },
    {
     "data": {
      "text/html": [
       "<pre>Finished training in 0.040475s</pre>"
      ],
      "text/plain": [
       "Finished training in 0.040475s"
      ]
     },
     "metadata": {},
     "output_type": "display_data"
    },
    {
     "name": "stdout",
     "output_type": "stream",
     "text": [
      "+---------+-----------+-------+------+\n",
      "|  CLI_ID | TICKET_ID | score | rank |\n",
      "+---------+-----------+-------+------+\n",
      "| 1490281 |  34575885 |  0.0  |  1   |\n",
      "| 1490281 |  34545883 |  0.0  |  2   |\n",
      "| 1490281 |  34713684 |  0.0  |  3   |\n",
      "| 1490281 |  33068440 |  0.0  |  4   |\n",
      "| 1490281 |  34792117 |  0.0  |  5   |\n",
      "| 1490281 |  33326041 |  0.0  |  6   |\n",
      "| 1490281 |  33780617 |  0.0  |  7   |\n",
      "| 1490281 |  35832190 |  0.0  |  8   |\n",
      "| 1490281 |  33988514 |  0.0  |  9   |\n",
      "| 1490281 |  35937981 |  0.0  |  10  |\n",
      "| 1490281 |  34575885 |  0.0  |  1   |\n",
      "| 1490281 |  34545883 |  0.0  |  2   |\n",
      "| 1490281 |  34713684 |  0.0  |  3   |\n",
      "| 1490281 |  33068440 |  0.0  |  4   |\n",
      "| 1490281 |  34792117 |  0.0  |  5   |\n",
      "| 1490281 |  33326041 |  0.0  |  6   |\n",
      "| 1490281 |  33780617 |  0.0  |  7   |\n",
      "| 1490281 |  35832190 |  0.0  |  8   |\n",
      "| 1490281 |  33988514 |  0.0  |  9   |\n",
      "| 1490281 |  35937981 |  0.0  |  10  |\n",
      "| 1490281 |  34575885 |  0.0  |  1   |\n",
      "| 1490281 |  34545883 |  0.0  |  2   |\n",
      "| 1490281 |  34713684 |  0.0  |  3   |\n",
      "| 1490281 |  33068440 |  0.0  |  4   |\n",
      "| 1490281 |  34792117 |  0.0  |  5   |\n",
      "| 1490281 |  33326041 |  0.0  |  6   |\n",
      "| 1490281 |  33780617 |  0.0  |  7   |\n",
      "| 1490281 |  35832190 |  0.0  |  8   |\n",
      "| 1490281 |  33988514 |  0.0  |  9   |\n",
      "| 1490281 |  35937981 |  0.0  |  10  |\n",
      "+---------+-----------+-------+------+\n",
      "[100000 rows x 4 columns]\n",
      "\n"
     ]
    },
    {
     "data": {
      "text/html": [
       "<pre>recommendations finished on 1000/10000 queries. users per second: 55859.7</pre>"
      ],
      "text/plain": [
       "recommendations finished on 1000/10000 queries. users per second: 55859.7"
      ]
     },
     "metadata": {},
     "output_type": "display_data"
    },
    {
     "data": {
      "text/html": [
       "<pre>recommendations finished on 2000/10000 queries. users per second: 69837.3</pre>"
      ],
      "text/plain": [
       "recommendations finished on 2000/10000 queries. users per second: 69837.3"
      ]
     },
     "metadata": {},
     "output_type": "display_data"
    },
    {
     "data": {
      "text/html": [
       "<pre>recommendations finished on 3000/10000 queries. users per second: 78057.9</pre>"
      ],
      "text/plain": [
       "recommendations finished on 3000/10000 queries. users per second: 78057.9"
      ]
     },
     "metadata": {},
     "output_type": "display_data"
    },
    {
     "data": {
      "text/html": [
       "<pre>recommendations finished on 4000/10000 queries. users per second: 80239.1</pre>"
      ],
      "text/plain": [
       "recommendations finished on 4000/10000 queries. users per second: 80239.1"
      ]
     },
     "metadata": {},
     "output_type": "display_data"
    },
    {
     "data": {
      "text/html": [
       "<pre>recommendations finished on 5000/10000 queries. users per second: 81837.1</pre>"
      ],
      "text/plain": [
       "recommendations finished on 5000/10000 queries. users per second: 81837.1"
      ]
     },
     "metadata": {},
     "output_type": "display_data"
    },
    {
     "data": {
      "text/html": [
       "<pre>recommendations finished on 6000/10000 queries. users per second: 84379.9</pre>"
      ],
      "text/plain": [
       "recommendations finished on 6000/10000 queries. users per second: 84379.9"
      ]
     },
     "metadata": {},
     "output_type": "display_data"
    },
    {
     "data": {
      "text/html": [
       "<pre>recommendations finished on 7000/10000 queries. users per second: 83025</pre>"
      ],
      "text/plain": [
       "recommendations finished on 7000/10000 queries. users per second: 83025"
      ]
     },
     "metadata": {},
     "output_type": "display_data"
    },
    {
     "data": {
      "text/html": [
       "<pre>recommendations finished on 8000/10000 queries. users per second: 83482.9</pre>"
      ],
      "text/plain": [
       "recommendations finished on 8000/10000 queries. users per second: 83482.9"
      ]
     },
     "metadata": {},
     "output_type": "display_data"
    },
    {
     "data": {
      "text/html": [
       "<pre>recommendations finished on 9000/10000 queries. users per second: 85051.7</pre>"
      ],
      "text/plain": [
       "recommendations finished on 9000/10000 queries. users per second: 85051.7"
      ]
     },
     "metadata": {},
     "output_type": "display_data"
    },
    {
     "data": {
      "text/html": [
       "<pre>recommendations finished on 10000/10000 queries. users per second: 81255.2</pre>"
      ],
      "text/plain": [
       "recommendations finished on 10000/10000 queries. users per second: 81255.2"
      ]
     },
     "metadata": {},
     "output_type": "display_data"
    }
   ],
   "source": [
    "name = 'pearson'\n",
    "target = 'purchase_dummy'\n",
    "pear_dummy = model(train_data_dummy, name, user_id, item_id, target, users_to_recommend, n_rec, n_display)"
   ]
  },
  {
   "cell_type": "code",
   "execution_count": null,
   "metadata": {},
   "outputs": [],
   "source": [
    "#Model Evaluation\n"
   ]
  }
 ],
 "metadata": {
  "kernelspec": {
   "display_name": "Python 3",
   "language": "python",
   "name": "python3"
  },
  "language_info": {
   "codemirror_mode": {
    "name": "ipython",
    "version": 3
   },
   "file_extension": ".py",
   "mimetype": "text/x-python",
   "name": "python",
   "nbconvert_exporter": "python",
   "pygments_lexer": "ipython3",
   "version": "3.8.5"
  }
 },
 "nbformat": 4,
 "nbformat_minor": 4
}
